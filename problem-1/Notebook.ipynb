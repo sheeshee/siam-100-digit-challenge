{
 "cells": [
  {
   "cell_type": "markdown",
   "metadata": {},
   "source": [
    "# Introduction\n",
    "\n",
    "This notebook implements a numerical solution of Problem 1 of the SIAM 100 digit challenge. [This particular solution was detailed by Walter Gautschi in a short paper titled \"The numerical evaluation of a challenging integral\"](http://www-m3.ma.tum.de/m3old/bornemann/challengebook/Chapter1/chall_int.pdf). Gautschi uses MATLAB to implement the algorithm and eventually reaches a precision of the solution to 64 digits.\n",
    "\n",
    "In this Notebook, the solution uses the NumPy, SciPy and Numba Python libraries to arrive at a solution accurate to 13 digits. The focus of this work is to create a program that arrives at a reasonably accurate solution quickly. \n",
    "\n",
    "## Setup Notebook"
   ]
  },
  {
   "cell_type": "code",
   "execution_count": 1,
   "metadata": {},
   "outputs": [],
   "source": [
    "import numpy as np\n",
    "import scipy\n",
    "from scipy.integrate import quad\n",
    "import numba\n",
    "from numba import njit"
   ]
  },
  {
   "cell_type": "code",
   "execution_count": 2,
   "metadata": {},
   "outputs": [
    {
     "data": {
      "text/plain": [
       "'1.6.3'"
      ]
     },
     "execution_count": 2,
     "metadata": {},
     "output_type": "execute_result"
    }
   ],
   "source": [
    "scipy.version.full_version"
   ]
  },
  {
   "cell_type": "code",
   "execution_count": 3,
   "metadata": {},
   "outputs": [
    {
     "data": {
      "text/plain": [
       "'1.20.3'"
      ]
     },
     "execution_count": 3,
     "metadata": {},
     "output_type": "execute_result"
    }
   ],
   "source": [
    "np.version.full_version"
   ]
  },
  {
   "cell_type": "code",
   "execution_count": 4,
   "metadata": {},
   "outputs": [
    {
     "data": {
      "text/plain": [
       "'0.53.1'"
      ]
     },
     "execution_count": 4,
     "metadata": {},
     "output_type": "execute_result"
    }
   ],
   "source": [
    "numba.__version__"
   ]
  },
  {
   "cell_type": "markdown",
   "metadata": {},
   "source": [
    "# Lambert W Function\n",
    "\n",
    "A central piece of the implementation described by Gautschi is evaluating the function $u(x)$. In it appears the [Lambert W function](https://en.wikipedia.org/wiki/Lambert_W_function).\n",
    "\n",
    "SciPy provides an implementation of the Lambert W function; however, this section will show that we can get a performance increase by having our own implementation based on the Newton-Raphson method, as described in Section 4 of Gautschi's paper.\n",
    "\n",
    "First, let's mesure the speed of the function $u$ when using the SciPy implementation of the Lambert W function:"
   ]
  },
  {
   "cell_type": "code",
   "execution_count": 5,
   "metadata": {},
   "outputs": [
    {
     "name": "stdout",
     "output_type": "stream",
     "text": [
      "2.74 µs ± 15.6 ns per loop (mean ± std. dev. of 7 runs, 100000 loops each)\n"
     ]
    }
   ],
   "source": [
    "from scipy.special import lambertw as W\n",
    "\n",
    "\n",
    "def u_lambert(x):\n",
    "    \"\"\"\n",
    "    Implementation of $u$ using the SciPy Lambert W function.\n",
    "    \"\"\"\n",
    "    return np.exp(W(x))\n",
    "\n",
    "\n",
    "%timeit u_lambert(1)"
   ]
  },
  {
   "cell_type": "markdown",
   "metadata": {},
   "source": [
    "Now we implement $u(x)$ through the Newton-Raphson method as described by Gautschi and measure its performance. As the following code only uses Python and NumPy, it allows us to use Numba's JIT compiler to get an performance boost, something that is not normally possible when using a SciPy function (note, there is now a [new Numba project](https://github.com/numba/numba-scipy) which may change this)."
   ]
  },
  {
   "cell_type": "code",
   "execution_count": 6,
   "metadata": {},
   "outputs": [
    {
     "name": "stdout",
     "output_type": "stream",
     "text": [
      "423 ns ± 61.3 ns per loop (mean ± std. dev. of 7 runs, 1000000 loops each)\n"
     ]
    }
   ],
   "source": [
    "@njit\n",
    "def u_newton(x, tol=1e-11):\n",
    "    \"\"\"\n",
    "    Implementation of $u$ using the Newton-Raphson method.\n",
    "    \"\"\"\n",
    "    # initialise u making sure it is at least\n",
    "    # positive as it will be used in a log method later\n",
    "    u = max([u0(x), 1e-10]) \n",
    "    k = 0 # iteration counter\n",
    "    while np.abs(u * np.log(u) - x) > tol and k < 1000:\n",
    "        u = next_u(u, x)\n",
    "        k += 1\n",
    "    return u\n",
    "\n",
    "\n",
    "@njit\n",
    "def next_u(u, x):\n",
    "    \"\"\"\n",
    "    Take a step towards the solution.\n",
    "    \"\"\"\n",
    "    return (u + x)/(1 + np.log(u))\n",
    "\n",
    "\n",
    "@njit\n",
    "def u0(x):\n",
    "    \"\"\"\n",
    "    Get an reasonably close estimate of the value as\n",
    "    a first guess to save time in finding the solution.\n",
    "    \"\"\"\n",
    "    return (\n",
    "        1.0125 \\\n",
    "        + 0.857700000 * x \\\n",
    "        + 0.129013000 * x**2 \\\n",
    "        + 0.020864500 * x**3 \\\n",
    "        - 0.001761480 * x**4 \\\n",
    "        + 0.000057941 * x**5\n",
    "    )\n",
    "\n",
    "\n",
    "# run the method once to prompt it to compile\n",
    "u_newton(1.0)\n",
    "\n",
    "\n",
    "%timeit u_newton(1.0)"
   ]
  },
  {
   "cell_type": "markdown",
   "metadata": {},
   "source": [
    "The SciPy implementation appears to take about 2.8 $\\mu s$ whereas our own implementation takes about 50 $\\mu s$. While there is a significant difference here in speed, it pays off\n",
    "when we use this method embedded in the rest of the code!\n",
    "\n",
    "# Full Solution Implementation\n",
    "\n",
    "This implementation uses two more key features in addition to the Raphson-Newton method:\n",
    "* SciPy's wrapper to the QUADPACK numerical integration tool\n",
    "* A native implementation of the Epsilon Algorithm\n",
    "\n",
    "The numerical integration function from SciPy is already a compiled program and well built, so it makes sense to use that implementation. The Espilon Algorithm is in contrast, straightforward to implement. By using the Python `map` function, this algorithm can quickly calculate the inital values for the algorithm.\n",
    "\n",
    "Again, the inner functions in the integrals are simple functions of just numpy and native python components, so Numba can easily accelerate these."
   ]
  },
  {
   "cell_type": "code",
   "execution_count": 7,
   "metadata": {},
   "outputs": [
    {
     "data": {
      "text/plain": [
       "0.32336743167775234"
      ]
     },
     "execution_count": 7,
     "metadata": {},
     "output_type": "execute_result"
    }
   ],
   "source": [
    "@njit\n",
    "def f1(x):\n",
    "    \"\"\"\n",
    "    Inner function of the first integral\n",
    "    \"\"\"\n",
    "    return np.cos(x)/(x + u_newton(x))\n",
    "\n",
    "\n",
    "@njit\n",
    "def f2(t, k):\n",
    "    \"\"\"\n",
    "    Inner function of the second integral\n",
    "    \"\"\"\n",
    "    return np.cos(t)/(t  + k*np.pi + u_newton(t + k * np.pi))\n",
    "\n",
    "\n",
    "def integrate(func, lb, ub):\n",
    "    \"\"\"\n",
    "    Calls SciPy's quad method to calculate the value of the integral of the\n",
    "    given function.\n",
    "    \"\"\"\n",
    "    return quad(func, lb, ub)[0]\n",
    "\n",
    "\n",
    "def term_k(k):\n",
    "    \"\"\"\n",
    "    Calculate the k-th term of the sum\n",
    "    \"\"\"\n",
    "    return (-1)**k * integrate(lambda t: f2(t, k), -np.pi/2, np.pi/2)\n",
    "\n",
    "\n",
    "def I(k):\n",
    "    \"\"\"\n",
    "    Evaluate the integral series with k terms\n",
    "    \"\"\"\n",
    "    return (\n",
    "        integrate(f1, 0, np.pi/2) \\\n",
    "        + sum(map(term_k,range(1, k)))\n",
    "    )\n",
    "\n",
    "\n",
    "def epsilon_algorithm(func, N):\n",
    "    \"\"\"\n",
    "    Applies the epsilon algorithm to a series evaluated by the function func with N terms.\n",
    "    \"\"\"\n",
    "    # create the result container\n",
    "    E = np.zeros((N, N+1))\n",
    "\n",
    "    # calculate values of the series\n",
    "    s = list(map(I,range(1, N+1)))\n",
    "    \n",
    "    # add them to the table\n",
    "    for k in range(N):\n",
    "        E[k, 1] = s[k]\n",
    "\n",
    "    # run the main body of the algorithm\n",
    "    for k in range(2, N+1):\n",
    "        for m in range(0, N+2-(k+1)):\n",
    "            E[m, k] = E[m+1, k-2] + 1/(E[m+1, k-1] - E[m, k-1])\n",
    "    \n",
    "    # return the value of interest\n",
    "    return E[0, -1]\n",
    "\n",
    "\n",
    "epsilon_algorithm(I, 25)"
   ]
  },
  {
   "cell_type": "code",
   "execution_count": 8,
   "metadata": {},
   "outputs": [
    {
     "name": "stdout",
     "output_type": "stream",
     "text": [
      "4.27 ms ± 146 µs per loop (mean ± std. dev. of 7 runs, 100 loops each)\n"
     ]
    }
   ],
   "source": [
    "%timeit epsilon_algorithm(I, 25)"
   ]
  }
 ],
 "metadata": {
  "kernelspec": {
   "display_name": "Python 3",
   "language": "python",
   "name": "python3"
  },
  "language_info": {
   "codemirror_mode": {
    "name": "ipython",
    "version": 3
   },
   "file_extension": ".py",
   "mimetype": "text/x-python",
   "name": "python",
   "nbconvert_exporter": "python",
   "pygments_lexer": "ipython3",
   "version": "3.7.6"
  }
 },
 "nbformat": 4,
 "nbformat_minor": 4
}
